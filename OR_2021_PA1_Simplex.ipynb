{
 "cells": [
  {
   "cell_type": "markdown",
   "metadata": {},
   "source": [
    "# Operations Research PA1: Solve LP-Problems with simplex in Python"
   ]
  },
  {
   "cell_type": "markdown",
   "metadata": {},
   "source": [
    "## 1. Understand how to solve LP-Problems using Python"
   ]
  },
  {
   "cell_type": "markdown",
   "metadata": {},
   "source": [
    "### 1.1 defined LP"
   ]
  },
  {
   "cell_type": "markdown",
   "metadata": {},
   "source": [
    "For the purpose of our lectures programming assignment, we define following  LP-problem.\n",
    "\n",
    "Maximize:\n",
    "\n",
    "$\\textrm{max.}$ ${Z} = {3x_1} + {5x_2}$\n",
    "\n",
    "In Subject to:\n",
    "\n",
    "${x_1} \\leq {4}$\n",
    " \n",
    "${2x_2} \\leq {12}$\n",
    "\n",
    "${3x_1}+{2x_2} \\leq {18}$\n",
    "\n",
    "${x_1}  \\geq 0, {x_2} \\geq 0$"
   ]
  },
  {
   "cell_type": "markdown",
   "metadata": {},
   "source": [
    "### Excercise 1"
   ]
  },
  {
   "cell_type": "markdown",
   "metadata": {},
   "source": [
    "For a solution in python we can use the in SciPy implemented python function for the Simplex algorithm.\n",
    "\n",
    "<b>please read the SciPy help carefully to understand the form we need to give the LP-Problem to the Algorithms implementation:</b>\n",
    "https://docs.scipy.org/doc/scipy/reference/optimize.linprog-simplex.html \n",
    "\n",
    "\n"
   ]
  },
  {
   "cell_type": "markdown",
   "metadata": {},
   "source": [
    "### 1.2 Converting a problem into parameters"
   ]
  },
  {
   "cell_type": "markdown",
   "metadata": {},
   "source": [
    "The documentation for the simplex in SciPy states, that to use the implementation, we need to convert our LP into the following given form:\n",
    "\n",
    "min: \n",
    "<blockquote> \n",
    "    ${c ^ T} {x}$\n",
    "</blockquote> \n",
    "    \n",
    "Such that:\n",
    "<blockquote> \n",
    "${A_{ub}}{x} \\leq {b_{ub}}$\n",
    "\n",
    "${A_{eq}} {x} = {b_{eq}}$\n",
    "    \n",
    "${lb} \\leq {x} \\leq {ub}$\n",
    "    \n",
    "</blockquote> "
   ]
  },
  {
   "cell_type": "markdown",
   "metadata": {},
   "source": [
    "lets see how the documentation describes these variables."
   ]
  },
  {
   "cell_type": "markdown",
   "metadata": {},
   "source": [
    "<blockquote>\n",
    "${c}$: 1-D array\n",
    "\n",
    "    The coefficients of the linear objective function to be minimized.\n",
    "</blockquote>"
   ]
  },
  {
   "cell_type": "markdown",
   "metadata": {},
   "source": [
    "<blockquote>\n",
    "${A_{ub}}$: 2-D array, optional\n",
    "\n",
    "    The inequality constraint matrix. Each row of A_ub specifies the coefficients of a linear inequality constraint on x.\n",
    "</blockquote>"
   ]
  },
  {
   "cell_type": "markdown",
   "metadata": {},
   "source": [
    "<blockquote>\n",
    "${b_{ub}}$: 1-D array, optional\n",
    "\n",
    "    The inequality constraint vector. Each element represents an upper bound on the corresponding value of A_ub @ x.\n",
    "</blockquote>"
   ]
  },
  {
   "cell_type": "markdown",
   "metadata": {},
   "source": [
    "<blockquote>\n",
    "${A_{eq}}$: 2-D array, optional\n",
    "\n",
    "    The equality constraint matrix. Each row of A_eq specifies the coefficients of a linear equality constraint on x.\n",
    "</blockquote>\n"
   ]
  },
  {
   "cell_type": "markdown",
   "metadata": {},
   "source": [
    "<blockquote>\n",
    "${b_{eq}}$: 1-D array, optional\n",
    "\n",
    "    The equality constraint vector. Each element of A_eq @ x must equal the corresponding element of b_eq.\n",
    "</blockquote>"
   ]
  },
  {
   "cell_type": "markdown",
   "metadata": {},
   "source": [
    "Using our LP Problem and the definitions we can transorm them into following form to parameterize the algorithm.\n",
    "\n",
    "<b>${c}$ = [-3,-5] </b>\n",
    "\n",
    "\n",
    "\n",
    "<i>Hint: the variables ${x_1}$ and ${x_2}$ turn negative since our LP is a maximize problem and the algorithm uses a minimalization (see the description of ${c}$)</i>\n",
    "\n",
    "\n"
   ]
  },
  {
   "cell_type": "markdown",
   "metadata": {},
   "source": [
    "Hence we use inequations as bounds, we need to use the parameter ${A_{ub}}$ and <b>not</b> the parameter ${A_{eq}}$. so we need to transorm the left side of our constraints into a matrix. Missing  ${x_1}$ and ${x_2}$ are set to 0.\n",
    "\n",
    "constraints:\n",
    "\n",
    "${x_1} \\leq {4}$\n",
    " \n",
    "${2x_2} \\leq {12}$\n",
    "\n",
    "${3x_1}+{2x_2} \\leq {18}$\n",
    "\n",
    "\n",
    "left side transformed into the 2-D array ${A_{ub}}$:\n",
    "\n",
    "\n",
    "$ {A_{ub}} = \\begin{bmatrix} {1} & {0} \\\\ {0} & {2} \\\\ {3} & {2} \\end{bmatrix}$"
   ]
  },
  {
   "cell_type": "markdown",
   "metadata": {},
   "source": [
    "Using the parameter ${A_{ub}}$ makes using the parameter ${b_{ub}}$ necessary to integrate the constraints right side.\n",
    "\n",
    "constraints:\n",
    "\n",
    "${x_1} \\leq {4}$\n",
    " \n",
    "${2x_2} \\leq {12}$\n",
    "\n",
    "${3x_1}+{2x_2} \\leq {18}$\n",
    "\n",
    "right side transformed into a the 1-D array ${b_{ub}}$ :\n",
    "\n",
    "<b>${b_{ub}}$ = [4,12,18] </b>"
   ]
  },
  {
   "cell_type": "markdown",
   "metadata": {},
   "source": [
    "Now we have defined the parameters to use the algortihm.\n",
    "lets implement it in Python and let the algorithm solve our LP."
   ]
  },
  {
   "cell_type": "markdown",
   "metadata": {},
   "source": [
    "### 1.3 Python implementation"
   ]
  },
  {
   "cell_type": "markdown",
   "metadata": {},
   "source": [
    "import the libraries we need"
   ]
  },
  {
   "cell_type": "code",
   "execution_count": 11,
   "metadata": {},
   "outputs": [],
   "source": [
    "import numpy as np\n",
    "import scipy as sp\n",
    "from scipy.optimize import linprog"
   ]
  },
  {
   "cell_type": "markdown",
   "metadata": {},
   "source": [
    "define the parameters in Python"
   ]
  },
  {
   "cell_type": "code",
   "execution_count": 8,
   "metadata": {},
   "outputs": [],
   "source": [
    "c = [-3, -5]\n",
    "A = [[1, 0], [0, 2], [3, 2]]\n",
    "b = [4, 12, 18]\n",
    "x0_bounds = (0, None)\n",
    "x1_bounds = (0, None)"
   ]
  },
  {
   "cell_type": "code",
   "execution_count": null,
   "metadata": {},
   "outputs": [],
   "source": [
    "Solve the problem by Simplex method in Optimization"
   ]
  },
  {
   "cell_type": "code",
   "execution_count": 12,
   "metadata": {},
   "outputs": [
    {
     "name": "stdout",
     "output_type": "stream",
     "text": [
      "Optimization terminated successfully.\n",
      "         Current function value: -36.000000  \n",
      "         Iterations: 3\n",
      "     con: array([], dtype=float64)\n",
      "     fun: -36.0\n",
      " message: 'Optimization terminated successfully.'\n",
      "     nit: 3\n",
      "   slack: array([2., 0., 0.])\n",
      "  status: 0\n",
      " success: True\n",
      "       x: array([2., 6.])\n"
     ]
    }
   ],
   "source": [
    "res = linprog(c, A_ub=A, b_ub=b,  bounds=(x0_bounds, x1_bounds), method='simplex', options={\"disp\": True})\n",
    "print(res)"
   ]
  },
  {
   "cell_type": "markdown",
   "metadata": {},
   "source": [
    "## 2. Further Excercises"
   ]
  },
  {
   "cell_type": "markdown",
   "metadata": {},
   "source": [
    "### Excercise 2\n",
    "\n",
    "Check the algorithms solution with the grafical and simlpex solution (do it on paper).\n"
   ]
  },
  {
   "cell_type": "markdown",
   "metadata": {},
   "source": [
    "<b>Your Answer:</b>"
   ]
  },
  {
   "cell_type": "markdown",
   "metadata": {},
   "source": []
  },
  {
   "cell_type": "markdown",
   "metadata": {},
   "source": [
    "### Excercise 3\n",
    "\n",
    "Use our first example of the lecture and implement it in here with the given schema and the SciPy Simplex implementation."
   ]
  },
  {
   "cell_type": "markdown",
   "metadata": {},
   "source": [
    "<b>Your Implementation:</b>"
   ]
  },
  {
   "cell_type": "code",
   "execution_count": 16,
   "metadata": {},
   "outputs": [],
   "source": [
    "# implement your solution here\n",
    "\n"
   ]
  },
  {
   "cell_type": "markdown",
   "metadata": {},
   "source": [
    "## 3. License"
   ]
  },
  {
   "cell_type": "markdown",
   "metadata": {},
   "source": [
    "MIT License\n",
    "\n",
    "Copyright (c) 2020 Fabian Gwinner - Julius-Maximilians-Universität Würzburg.\n",
    "\n",
    "Permission is hereby granted, free of charge, to any person obtaining a copy of this software and associated documentation files (the \"Software\"), to deal in the Software without restriction, including without limitation the rights to use, copy, modify, merge, publish, distribute, sublicense, and/or sell copies of the Software, and to permit persons to whom the Software is furnished to do so, subject to the following conditions:\n",
    "\n",
    "The above copyright notice and this permission notice shall be included in all copies or substantial portions of the Software.\n",
    "\n",
    "THE SOFTWARE IS PROVIDED \"AS IS\", WITHOUT WARRANTY OF ANY KIND, EXPRESS OR IMPLIED, INCLUDING BUT NOT LIMITED TO THE WARRANTIES OF MERCHANTABILITY, FITNESS FOR A PARTICULAR PURPOSE AND NONINFRINGEMENT. IN NO EVENT SHALL THE AUTHORS OR COPYRIGHT HOLDERS BE LIABLE FOR ANY CLAIM, DAMAGES OR OTHER LIABILITY, WHETHER IN AN ACTION OF CONTRACT, TORT OR OTHERWISE, ARISING FROM, OUT OF OR IN CONNECTION WITH THE SOFTWARE OR THE USE OR OTHER DEALINGS IN THE SOFTWARE.\n",
    "\n",
    "https://opensource.org/licenses/mit-license.php\n",
    "\n",
    "Used Libraries are excluded und underlay their own Licenses"
   ]
  }
 ],
 "metadata": {
  "kernelspec": {
   "display_name": "Python 3",
   "language": "python",
   "name": "python3"
  },
  "language_info": {
   "codemirror_mode": {
    "name": "ipython",
    "version": 3
   },
   "file_extension": ".py",
   "mimetype": "text/x-python",
   "name": "python",
   "nbconvert_exporter": "python",
   "pygments_lexer": "ipython3",
   "version": "3.8.2"
  }
 },
 "nbformat": 4,
 "nbformat_minor": 4
}
